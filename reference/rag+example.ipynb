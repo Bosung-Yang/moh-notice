{
 "cells": [
  {
   "cell_type": "code",
   "execution_count": 3,
   "metadata": {},
   "outputs": [
    {
     "name": "stdout",
     "output_type": "stream",
     "text": [
      "[{'question': '다음 내용들로 명훈 스타일 공지를 작성해주세요. \\n            날짜 : 1월 24일 \\n            시간 : 없음\\n            컨텐츠 : 휴방 \\n            할 말 : 산악회 로아 3막 레이드 완료', 'answer': '[공지] 1월 24일 명예훈장 방송 공지입니다! \\n        반갑습니다 사랑하는 턱붕이 여러분!! 으아 로아 이번 3막 엄청 빡셌다 ㅠㅠ!!!!  \\n        그래도 2일만에 클리어 완료.... ㅋㅋㅋ 다들 응원해주셔서 감사합니다!  \\n        전체 순위는 6등이네요  \\n        후후 잔혈까지 나이스 +_+ 스펙업 한 보람이 있었습니다 도와주신분들 너무너무x999 감사합니다ㅎ!  \\n        산악회 다들 고생많았다!!!  \\n        저는 오늘 배터리 방전입니다 일좀 하면서 쉬도록 하겠습니다 ㅎ  \\n        유튜브 또 올라왔으니 재밌게 봐주시고 다시보기 채널도 많이 사랑해주세요!  \\n        항상 시청해주셔서 감사합니다! 좋은 저녁 보내세요!'}, {'question': '다음 내용들로 명훈 스타일 공지를 공지 작성해주세요.  \\n            날짜 : 1월 23일  \\n            시간 : 3시, 7시  \\n            컨텐츠 : 명조 광고, 로아 3막 트라이  \\n            할 말 : 3시 명조 광고, 26시간 진행한 로아 3막 리트라이', 'answer': '[공지] 반갑습니다 1월 23일 방송 공지입니다! 3시 - 명조 광고 / 7시 로아 산악회 리트라이 가자!  \\n        반갑습니다 사랑하는 턱붕이 여러분!! 1월 23일 방송 공지입니다!  \\n        오우 어제 26시간 트라이....하고 잠깐 자고 왔습니다ㅋㅋㅋ 아직 3막을 못 깼다.....  \\n        오늘 아침에 갑자기 정상화 패치를 해서 후반 진도를 나가야되는데 초반 진도를 나가게 되었습니다 크흡..  \\n        방송 일정 공지!!  \\n        3시 : 명조 광고!!!! 제가 요즘 진짜 재밌게 하는 모바일게임 띵조에서 연락이 왔습니다 와ㅏㅏ  \\n        오늘 새로운 캐릭터 로코코도 나왔다고 하는데 카멜리아랑 같이 쓴다고 해서 한번 뽑아보겠습니닷!!!!!  \\n        7시 : 산악회 로아 3막 리트라이  \\n        이렇게 예정되어있습니다!  \\n        오늘 유튭 컨펌 빠르게 하고 유튭 영상도 올라올 예정입니다 영상 올라오면 좋아요 마니 눌러주세용! '}, {'question': '다음 내용들로 명훈 스타일 공지 작성해주세요.  \\n            날짜 : 1월 20일  \\n            시간 : 8시  \\n            컨텐츠 : 로아 산악회, 메이플 림보, 던파 태초 런  \\n            할 말 : 로아 상상악세 스펙업', 'answer': '1월 20일 명훈 방송 공지! 오늘 로아 스펙업 완료!! 메던로의 날이다!!  \\n            1월 20일 명훈 방송 공지!  \\n            오늘 로아 스펙업 완료 상상 악세 + 상상+@ 맞춰왔습니다!  \\n            명튜브도 업로드했으니 좋아요+재밌게 시청해주세요!  \\n            메던로의 날이다!!  \\n            1부 로아 산악회  \\n            2부 메이플 림보 ㄱㄱ  \\n            3부 던파 태초 도파민 중독자 출격ㅋㅋ  \\n            이따 봅시다 오늘 8시 거의 딱 맞춰서 올듯용?  \\n            '}, {'question': '다음 내용들로 명훈 스타일 공지 작성해주세요.  \\n            날짜 : 1월 19일  \\n            시간 : 5시 10분  \\n            컨텐츠 : 메이플 검은마법사  \\n            합방멤버 : 메벤저스 \\n            할 말 : 메벤저스 컨텐츠 메카닉 검은마법사 마무리', 'answer': '1월 19일 방송 명훈 스타일 공지.. 오늘 메벤져스 라스트댄스! \\n            반갑습니다 사랑하는 턱붕이 여러분!  \\n            1월 19일 명훈 방송 공지입니다!  \\n            오늘 5시 10분 방송 ON~~ (메벤져스 5시 30분 스타트입니다!)  \\n            후 어제 열심히 달리고 자고 왔씁니다 오늘 메벤져스 라스트댄스 검은마법사 쭉 달려보자구!!  \\n            사실상 오늘이 마지막.. 아름다운 마무리가 되길ㅋㅋㅋㅋ  \\n            메카닉 정 많이 들었는데 이제 떠나보낼때가 됐네요..  \\n            이따 봅시다!ㅎ'}]\n"
     ]
    }
   ],
   "source": [
    "import util\n",
    "\n",
    "\n",
    "examples = util.load_example()\n",
    "print(examples)"
   ]
  },
  {
   "cell_type": "code",
   "execution_count": 5,
   "metadata": {},
   "outputs": [],
   "source": [
    "import os\n",
    "import mykey\n",
    "os.environ['OPENAI_API_KEY'] = mykey.my_openai()\n",
    "\n",
    "from langchain_openai import ChatOpenAI\n",
    "\n",
    "model = ChatOpenAI(\n",
    "    model=\"gpt-3.5-turbo\",\n",
    "    max_tokens=2048,\n",
    "    temperature=0.1,\n",
    ")\n",
    "\n",
    "from langchain_core.prompts.few_shot import FewShotPromptTemplate\n",
    "from langchain_core.prompts import PromptTemplate"
   ]
  },
  {
   "cell_type": "code",
   "execution_count": null,
   "metadata": {},
   "outputs": [],
   "source": [
    "example_prompt = PromptTemplate.from_template(\n",
    "    \"Question: n{question} nAnswer: n{answer}\"\n",
    ")\n",
    "\n",
    "prompt = FewShotPromptTemplate(\n",
    "    examples=examples,\n",
    "    example_prompt=example_prompt,\n",
    "    suffix=\"Question: \\n {question} \\n Answer:\",\n",
    "    input_variables=[\"question\"],\n",
    ")"
   ]
  },
  {
   "cell_type": "code",
   "execution_count": 14,
   "metadata": {},
   "outputs": [
    {
     "data": {
      "text/plain": [
       "[Document(metadata={'source': 'notice_collection.txt'}, page_content='반갑습니다 사랑하는 턱붕이 여러분! 2월 8일 명예훈장 방송 공지입니다!\\n\\n\\u200b\\n\\n유튜브 업로드 아침에 완료!!!!! 메던로를 정복한 사나이의 소신 발언 영상 올라왔습니다!!\\n\\n+어제 메튜브 호영 스펙업/제로 영상도 업로드 했으니 재밌게 봐주시고 좋아요&구독 많이 눌러주세요!\\n\\n다시보기 채널도 베누스 강림 클리어 영상 싹다 올라왔슴다 ㅎ!\\n\\n\\u200b\\n\\n요즘 순항중이군요 좋습니다 턱붕이분들 영상 많이 봐주시고 좋아요 꼭꼭 부탁드려요 큰 힘이 됩니닷!!!!\\n\\n일요일에 릴스도 하나 올려보고 쇼츠각 있으면 구상해서 만들어봐야지!\\n\\n\\u200b\\n\\n오늘 방송은요! 오랜만에 낮방이네요 ~ 3시 전에 딱코로 올듯!!!!!\\n\\n3시 = 로아 스트리머 파티 3막 갑니다!! 저번에 명훈사기단에게 붙잡혔는데 오늘은 빠르게 탈출.. 가능하겠지..?\\n\\n\\u200b\\n\\n일정 끝나고 던파 태초 먹으러 ㄱㄱ!!!!\\n\\n\\u200b\\n\\n9시 메이플 하드 림보 있습니다!\\n\\n\\u200b\\n\\n오늘도 메던로 한번 달려봅시다!!!! ㅋㅋㅋ\\n\\n이따 봐요★\\n[출처] 2월 8일 명예훈장 방송 공지입니다! 오늘 메던로의 날이다!!! (명예훈장 공식 팬카페) | 작성자 명예훈장\\n\\n\\n[공지]\\n반갑습니다 2월 7일 명예훈장 방송 공지입니다! 오늘 로아 라방+명조 특별 방송 ㄷㄷㄷ\\n반갑습니다 사랑하는 턱붕이 여러분! 2월 7일 명예훈장 방송 공지입니다!\\n\\n\\u200b\\n\\n오늘의 방송 일정!\\n\\n로아.. 이대로 괜찮은가?? 7시 로스트아크 긴급 라이브 ㄷㄷㄷ.. \\n\\n\\u200b\\n\\n어제 던파 최종 컨텐츠 베누스까지 잡으면서 이제 메/던/로 완벽하게 정복해버렸습니다\\n\\n\\u200b\\n\\n메이플 : 하드 림보 클리어 (현 최종 컨텐츠) - 호영 환산 10.8 직업 랭킹 TOP 5\\n\\n로스트아크 : 3막 클리어 (현 최종 컨텐츠) - 블레이드 랭킹 9위\\n\\n던전앤파이터 : 베누스 클리어 (현 최종 컨텐츠) - 베가본드 클리어 랭킹 51위\\n\\n\\u200b\\n\\n이렇게 찍어버렸네요 허허ㅎㅎ\\n\\n\\u200b\\n\\n라이브 보면서 배트발언 한번 가보도록 하겠습니다.ㅋㅋㅋ\\n\\n6시 40분쯤 올 예정입니다!!\\n\\n\\u200b\\n\\n그리고 오늘 명조 특별 방송도 같이 보기로 했는데\\n\\n로아 라이브가 좀 길어질 경우에는 다시보기로 보는거로 하겠습니당!!\\n\\n(요 부분은 양해 부탁드리옵니다!!!)\\n\\n\\u200b\\n\\n로아 라이브 끝나고 유튜브 본채널에 바로 업로드 될 예정이고,\\n\\n명튜브도 영상 하나 올라옵니다! 이따 올라오면 좋아요 마구마구마구 부탁드려요잉\\n\\n\\u200b\\n\\n치지직,유튜브 커뮤니티 글들도 버프+좋아요 많이 눌러주십쇼!\\n\\n[공지]\\n반갑습니다 사랑하는 턱붕이 여러분! 2월 6일 명훈 방송 공지입니다!!\\n\\n오늘 방송은 9시쯤 오도록 하겠습니다!\\n\\n방송 일정 : 9시 20분on , 카페 -> 던파 스펙업 -> 신규 보스 베누스 눈나 맛보기 ㄱㄱ\\n\\n어제 스펙업 하니까 명성이 많이 올라서 도전해볼만한 것 같슴다!!!!!\\n\\n오늘 태초 무기 하나만 먹으면.... 더 할만하지 않을까 허허허ㅓㅎ\\n\\n\\u200b\\n\\n+ 어제부터 인스타 다시 시작했는데\\n\\n팔로우도 많이 부탁드립니다 ㅎㅎ 주소▼ 재밌는거 많이 올려볼게여! +소통ㅋㅋ\\n\\n\\n')]"
      ]
     },
     "execution_count": 14,
     "metadata": {},
     "output_type": "execute_result"
    }
   ],
   "source": [
    "from langchain_community.document_loaders import TextLoader\n",
    "\n",
    "loader = TextLoader('notice_collection.txt')\n",
    "docs = loader.load()\n",
    "docs"
   ]
  },
  {
   "cell_type": "code",
   "execution_count": 15,
   "metadata": {},
   "outputs": [],
   "source": [
    "from langchain_community.vectorstores import FAISS\n",
    "from langchain_openai import OpenAIEmbeddings\n",
    "import os\n",
    "import mykey\n",
    "from langchain_text_splitters import CharacterTextSplitter\n",
    "\n",
    "text_splitter = CharacterTextSplitter(chunk_size=300, chunk_overlap=0)\n",
    "embeddings = OpenAIEmbeddings()\n",
    "split_docs = text_splitter.split_documents(docs)\n",
    "db = FAISS.from_documents(split_docs, embeddings)\n",
    "retreieved = db.as_retriever()\n"
   ]
  },
  {
   "cell_type": "code",
   "execution_count": 16,
   "metadata": {},
   "outputs": [],
   "source": [
    "from langchain_core.output_parsers import StrOutputParser\n",
    "from langchain_core.runnables import RunnablePassthrough\n",
    "\n",
    "chain = (\n",
    "    {\"context\": retreieved, \"question\": RunnablePassthrough()}\n",
    "    | prompt\n",
    "    | model\n",
    "    | StrOutputParser()\n",
    ")"
   ]
  },
  {
   "cell_type": "code",
   "execution_count": 17,
   "metadata": {},
   "outputs": [
    {
     "data": {
      "text/plain": [
       "'[공지] 1월 31일 명훈 방송 공지! 산악회와 메이플 영도재획으로 즐거운 시간 보내요!  \\n반갑습니다 사랑하는 턱붕이 여러분!  \\n1월 31일 명훈 방송 공지입니다!  \\n오늘 8시에는 산악회로 모험을 떠날 예정이에요!  \\n그리고 메이플 영도재획도 함께 즐기면서 재미있는 시간을 보내보도록 해요!  \\n이따 봐요! 함께 즐겁게 방송 시청해주세요!'"
      ]
     },
     "execution_count": 17,
     "metadata": {},
     "output_type": "execute_result"
    }
   ],
   "source": [
    "chain.invoke(\"다음 내용들로 명훈 스타일 공지를 작성해주세요. 날짜 : 1월 31일,  시간 : 8시, 컨텐츠 : 산악회, 메이플 영도재획\")"
   ]
  },
  {
   "cell_type": "code",
   "execution_count": 20,
   "metadata": {},
   "outputs": [
    {
     "data": {
      "text/plain": [
       "'[공지] 1월 31일 명훈 방송 공지! 산악회 로아 8시 시작합니다!  \\n반갑습니다 사랑하는 턱붕이 여러분!!  \\n1월 31일 명훈 방송 공지입니다!  \\n오늘은 산악회 로아로 함께해요!  \\n8시에 시작해서 즐거운 시간 보내보도록 합시다!  \\n유튜브 영상도 업로드 했으니 재밌게 시청해주세요!  \\n오늘도 함께해주셔서 감사합니다!'"
      ]
     },
     "execution_count": 20,
     "metadata": {},
     "output_type": "execute_result"
    }
   ],
   "source": [
    "chain.invoke(\"다음 내용들로 명훈 스타일 공지를 작성해주세요. 날짜 : 1월 31일,  시간 : 8시, 컨텐츠 : 산악회 로아\")"
   ]
  },
  {
   "cell_type": "code",
   "execution_count": null,
   "metadata": {},
   "outputs": [],
   "source": []
  }
 ],
 "metadata": {
  "kernelspec": {
   "display_name": "llm-env",
   "language": "python",
   "name": "python3"
  },
  "language_info": {
   "codemirror_mode": {
    "name": "ipython",
    "version": 3
   },
   "file_extension": ".py",
   "mimetype": "text/x-python",
   "name": "python",
   "nbconvert_exporter": "python",
   "pygments_lexer": "ipython3",
   "version": "3.11.11"
  }
 },
 "nbformat": 4,
 "nbformat_minor": 2
}
