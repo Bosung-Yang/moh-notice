{
 "cells": [
  {
   "cell_type": "code",
   "execution_count": 45,
   "metadata": {},
   "outputs": [],
   "source": [
    "import pandas as pd\n",
    "import os\n",
    "import mykey\n",
    "os.environ['OPENAI_API_KEY'] = mykey.my_openai()\n",
    "\n",
    "from langchain_openai import ChatOpenAI\n",
    "\n",
    "model = ChatOpenAI(\n",
    "    model= 'gpt-4o', #\"gpt-3.5-turbo\",\n",
    "    max_tokens=2048,\n",
    "    temperature=0.1,\n",
    ")"
   ]
  },
  {
   "cell_type": "code",
   "execution_count": 46,
   "metadata": {},
   "outputs": [],
   "source": [
    "from langchain_core.prompts.few_shot import FewShotPromptTemplate\n",
    "from langchain_core.prompts import PromptTemplate"
   ]
  },
  {
   "cell_type": "code",
   "execution_count": 47,
   "metadata": {},
   "outputs": [
    {
     "data": {
      "text/html": [
       "<div>\n",
       "<style scoped>\n",
       "    .dataframe tbody tr th:only-of-type {\n",
       "        vertical-align: middle;\n",
       "    }\n",
       "\n",
       "    .dataframe tbody tr th {\n",
       "        vertical-align: top;\n",
       "    }\n",
       "\n",
       "    .dataframe thead th {\n",
       "        text-align: right;\n",
       "    }\n",
       "</style>\n",
       "<table border=\"1\" class=\"dataframe\">\n",
       "  <thead>\n",
       "    <tr style=\"text-align: right;\">\n",
       "      <th></th>\n",
       "      <th>content</th>\n",
       "      <th>comment_count</th>\n",
       "      <th>date</th>\n",
       "      <th>notice_date</th>\n",
       "      <th>broad_time</th>\n",
       "      <th>want_say</th>\n",
       "      <th>todos</th>\n",
       "      <th>youtube</th>\n",
       "    </tr>\n",
       "  </thead>\n",
       "  <tbody>\n",
       "    <tr>\n",
       "      <th>0</th>\n",
       "      <td>자 반갑습니다 사랑하는 턱붕이 여러분 2월 14일 명예훈장 방송 공지입니다★!\\n\\...</td>\n",
       "      <td>0</td>\n",
       "      <td>1일 전</td>\n",
       "      <td>2월 14일</td>\n",
       "      <td>저녁 8시</td>\n",
       "      <td>발렌타인 데이 특집!</td>\n",
       "      <td>광고 진행 후 게스트와 컨텐츠</td>\n",
       "      <td>업로드</td>\n",
       "    </tr>\n",
       "    <tr>\n",
       "      <th>1</th>\n",
       "      <td>반갑습니다 사랑하는 턱붕이 여러분!\\n2월 12일 방송 공지입니다!\\n\\n오늘 9시...</td>\n",
       "      <td>0</td>\n",
       "      <td>3일 전</td>\n",
       "      <td>2월 12일</td>\n",
       "      <td>9시</td>\n",
       "      <td>총좀 쏴보자구ㅎ</td>\n",
       "      <td>배그 합방</td>\n",
       "      <td>업로드</td>\n",
       "    </tr>\n",
       "    <tr>\n",
       "      <th>2</th>\n",
       "      <td>반갑습니다 사랑하는 턱붕이 여러분! 2월 11일 명예훈장 방송 공지입니다! \\r\\n...</td>\n",
       "      <td>0</td>\n",
       "      <td>3일 전</td>\n",
       "      <td>2월 11일</td>\n",
       "      <td>9시</td>\n",
       "      <td>사랑하는 턱붕이 여러분!</td>\n",
       "      <td>마크 서버 다이아 게임</td>\n",
       "      <td>업로드</td>\n",
       "    </tr>\n",
       "    <tr>\n",
       "      <th>3</th>\n",
       "      <td>오늘 휴식.\\n열심히 일했음.\\n내일 유튜브 대령하겠음.\\n좋은 저녁.</td>\n",
       "      <td>0</td>\n",
       "      <td>4일 전</td>\n",
       "      <td>오늘</td>\n",
       "      <td>없음</td>\n",
       "      <td>휴식, 열심히 일했음</td>\n",
       "      <td>없음</td>\n",
       "      <td>미업로드</td>\n",
       "    </tr>\n",
       "    <tr>\n",
       "      <th>4</th>\n",
       "      <td>반갑습니다 사랑하는 턱붕이 여러분! 2월 9일 명예훈장 방송 공지입니다!\\n\\n오늘...</td>\n",
       "      <td>0</td>\n",
       "      <td>6일 전</td>\n",
       "      <td>2월 9일</td>\n",
       "      <td>4시</td>\n",
       "      <td>최대치의 성능을 보여줄게</td>\n",
       "      <td>제로 컨트롤 1위 [르헤솔] / 카데나 컨트롤 1위 [식중땐] 라이브방송</td>\n",
       "      <td>업로드</td>\n",
       "    </tr>\n",
       "    <tr>\n",
       "      <th>...</th>\n",
       "      <td>...</td>\n",
       "      <td>...</td>\n",
       "      <td>...</td>\n",
       "      <td>...</td>\n",
       "      <td>...</td>\n",
       "      <td>...</td>\n",
       "      <td>...</td>\n",
       "      <td>...</td>\n",
       "    </tr>\n",
       "    <tr>\n",
       "      <th>195</th>\n",
       "      <td>오늘 낮에 오려했는데 체력 이슈ㅜ.ㅜ\\n\\n\\n투데이 일정\\n\\n악놀 마무리 이후 ...</td>\n",
       "      <td>0</td>\n",
       "      <td>7개월 전</td>\n",
       "      <td>오늘</td>\n",
       "      <td>낮</td>\n",
       "      <td>체력 이슈 ㅜ.ㅜ</td>\n",
       "      <td>악놀 마무리, 건벤 뒤풀이, 엘든 링(노영체 클로 모험)</td>\n",
       "      <td>미업로드</td>\n",
       "    </tr>\n",
       "    <tr>\n",
       "      <th>196</th>\n",
       "      <td>반갑습니다 사랑하는 시청자 여러분!\\n오늘 몇주만에 휴방이지? 완전 푹 잤네.. 오...</td>\n",
       "      <td>0</td>\n",
       "      <td>7개월 전</td>\n",
       "      <td>7월 3일</td>\n",
       "      <td>오후 8시</td>\n",
       "      <td>토요일은 널널하게!</td>\n",
       "      <td>토요일 마지막 공성전</td>\n",
       "      <td>업로드</td>\n",
       "    </tr>\n",
       "    <tr>\n",
       "      <th>197</th>\n",
       "      <td>반갑습니다 사랑하는 시청자 여러분!\\n오늘은 2시 30분쯤에 오도록 하겠습니다!!\\...</td>\n",
       "      <td>0</td>\n",
       "      <td>7개월 전</td>\n",
       "      <td>NaN</td>\n",
       "      <td>2시 30분</td>\n",
       "      <td>침대쟁은 어려웠던 것</td>\n",
       "      <td>파밍, 공성전</td>\n",
       "      <td>미업로드</td>\n",
       "    </tr>\n",
       "    <tr>\n",
       "      <th>198</th>\n",
       "      <td>반갑습니다 사랑하는 시청자 여러분!!!\\n공지를 계속 쓴다고는 하는데 매번 방송이 ...</td>\n",
       "      <td>0</td>\n",
       "      <td>7개월 전</td>\n",
       "      <td>2024년 7월</td>\n",
       "      <td>저녁 10시</td>\n",
       "      <td>열심히 방송 달리자!</td>\n",
       "      <td>최후의 길드 공성전</td>\n",
       "      <td>업로드</td>\n",
       "    </tr>\n",
       "    <tr>\n",
       "      <th>199</th>\n",
       "      <td>반갑습니다 사랑하는 시청자 여러분!!\\n오늘은 악놀2 전설 스킬,전설 무기 제작하는...</td>\n",
       "      <td>0</td>\n",
       "      <td>7개월 전</td>\n",
       "      <td>NaN</td>\n",
       "      <td>12시</td>\n",
       "      <td>악놀2 전설 스킬,전설 무기 제작</td>\n",
       "      <td>악놀2 전설 스킬,전설 무기 제작</td>\n",
       "      <td>업로드</td>\n",
       "    </tr>\n",
       "  </tbody>\n",
       "</table>\n",
       "<p>200 rows × 8 columns</p>\n",
       "</div>"
      ],
      "text/plain": [
       "                                               content  comment_count   date  \\\n",
       "0    자 반갑습니다 사랑하는 턱붕이 여러분 2월 14일 명예훈장 방송 공지입니다★!\\n\\...              0   1일 전   \n",
       "1    반갑습니다 사랑하는 턱붕이 여러분!\\n2월 12일 방송 공지입니다!\\n\\n오늘 9시...              0   3일 전   \n",
       "2    반갑습니다 사랑하는 턱붕이 여러분! 2월 11일 명예훈장 방송 공지입니다! \\r\\n...              0   3일 전   \n",
       "3              오늘 휴식.\\n열심히 일했음.\\n내일 유튜브 대령하겠음.\\n좋은 저녁.              0   4일 전   \n",
       "4    반갑습니다 사랑하는 턱붕이 여러분! 2월 9일 명예훈장 방송 공지입니다!\\n\\n오늘...              0   6일 전   \n",
       "..                                                 ...            ...    ...   \n",
       "195  오늘 낮에 오려했는데 체력 이슈ㅜ.ㅜ\\n\\n\\n투데이 일정\\n\\n악놀 마무리 이후 ...              0  7개월 전   \n",
       "196  반갑습니다 사랑하는 시청자 여러분!\\n오늘 몇주만에 휴방이지? 완전 푹 잤네.. 오...              0  7개월 전   \n",
       "197  반갑습니다 사랑하는 시청자 여러분!\\n오늘은 2시 30분쯤에 오도록 하겠습니다!!\\...              0  7개월 전   \n",
       "198  반갑습니다 사랑하는 시청자 여러분!!!\\n공지를 계속 쓴다고는 하는데 매번 방송이 ...              0  7개월 전   \n",
       "199  반갑습니다 사랑하는 시청자 여러분!!\\n오늘은 악놀2 전설 스킬,전설 무기 제작하는...              0  7개월 전   \n",
       "\n",
       "    notice_date broad_time            want_say  \\\n",
       "0        2월 14일      저녁 8시         발렌타인 데이 특집!   \n",
       "1        2월 12일         9시            총좀 쏴보자구ㅎ   \n",
       "2        2월 11일         9시       사랑하는 턱붕이 여러분!   \n",
       "3            오늘         없음         휴식, 열심히 일했음   \n",
       "4         2월 9일         4시       최대치의 성능을 보여줄게   \n",
       "..          ...        ...                 ...   \n",
       "195          오늘          낮           체력 이슈 ㅜ.ㅜ   \n",
       "196       7월 3일      오후 8시          토요일은 널널하게!   \n",
       "197         NaN     2시 30분         침대쟁은 어려웠던 것   \n",
       "198    2024년 7월     저녁 10시         열심히 방송 달리자!   \n",
       "199         NaN        12시  악놀2 전설 스킬,전설 무기 제작   \n",
       "\n",
       "                                        todos youtube  \n",
       "0                            광고 진행 후 게스트와 컨텐츠     업로드  \n",
       "1                                       배그 합방     업로드  \n",
       "2                                마크 서버 다이아 게임     업로드  \n",
       "3                                          없음    미업로드  \n",
       "4    제로 컨트롤 1위 [르헤솔] / 카데나 컨트롤 1위 [식중땐] 라이브방송     업로드  \n",
       "..                                        ...     ...  \n",
       "195           악놀 마무리, 건벤 뒤풀이, 엘든 링(노영체 클로 모험)    미업로드  \n",
       "196                               토요일 마지막 공성전     업로드  \n",
       "197                                   파밍, 공성전    미업로드  \n",
       "198                                최후의 길드 공성전     업로드  \n",
       "199                        악놀2 전설 스킬,전설 무기 제작     업로드  \n",
       "\n",
       "[200 rows x 8 columns]"
      ]
     },
     "execution_count": 47,
     "metadata": {},
     "output_type": "execute_result"
    }
   ],
   "source": [
    "df = pd.read_csv('pp-notice.csv')\n",
    "df"
   ]
  },
  {
   "cell_type": "code",
   "execution_count": 48,
   "metadata": {},
   "outputs": [],
   "source": [
    "examples = []\n",
    "\n",
    "for i in range(len(df[:30]) ):\n",
    "    examples.append(\n",
    "        {\n",
    "            'instruction' : '다음 내용들로 명훈 스타일 공지를 작성해주세요',\n",
    "            'notice_date' : df['notice_date'].iloc[i],\n",
    "            'broad_time' : df['broad_time'].iloc[i],\n",
    "            'want_say' : df['want_say'].iloc[i],\n",
    "            'todo' : df['todos'].iloc[i],\n",
    "            'youtube': df['youtube'].iloc[i],\n",
    "            'answer': df['content'].iloc[i]\n",
    "        }\n",
    "    )"
   ]
  },
  {
   "cell_type": "code",
   "execution_count": 49,
   "metadata": {},
   "outputs": [
    {
     "name": "stdout",
     "output_type": "stream",
     "text": [
      "instruction: 다음 내용들로 명훈 스타일 공지를 작성해주세요 \n",
      "    notice_date: 2월 14일\n",
      "    broad_time: 저녁 8시\n",
      "    want_say : 발렌타인 데이 특집!\n",
      "    todo: 광고 진행 후 게스트와 컨텐츠\n",
      "    youtube: 업로드\n",
      "    answer: 자 반갑습니다 사랑하는 턱붕이 여러분 2월 14일 명예훈장 방송 공지입니다★!\n",
      "\n",
      "제가 예전부터 즐겨했었던 명조에서 너무 감사하게도 광고가 들어왔습니다~~~ 야호!!!!!!\n",
      "\n",
      "저녁 8시에 광고 진행을 하는데요! 근데 오늘 의문의 게스트가 있습니다.\n",
      "근데 또 마침 발렌타인 데이네요..... 오늘 8시부터 진행하고요 ㅎㅎ 끝나고 게스트분과 컨텐츠도 있습니다ㅎ\n",
      "\n",
      "오늘도 유튜브 올라왔으니 다들 좋아요 많이 눌러주시고 구독 많이 눌러주시구요!\n",
      "\n",
      "https://chzzk.naver.com/5d53f8fa5bef9...\n",
      "\n",
      "생방송은 저녁 8시에 오시면 되겠습니다 허허 그럼 이따 뵙겠습니다 ㅎ\n",
      "    \n"
     ]
    }
   ],
   "source": [
    "example_prompt = PromptTemplate.from_template(\n",
    "    \"\"\"instruction: {instruction} \n",
    "    notice_date: {notice_date}\n",
    "    broad_time: {broad_time}\n",
    "    want_say : {want_say}\n",
    "    todo: {todo}\n",
    "    youtube: {youtube}\n",
    "    answer: {answer}\n",
    "    \"\"\"\n",
    ")\n",
    "\n",
    "print(example_prompt.format(**examples[0]))"
   ]
  },
  {
   "cell_type": "code",
   "execution_count": 50,
   "metadata": {},
   "outputs": [],
   "source": [
    "prompt = FewShotPromptTemplate(\n",
    "    examples=examples,\n",
    "    example_prompt=example_prompt,\n",
    "    suffix=\"instruction: \\n {instruction} \\n notice_date: {notice_date} \\n broad_time: {broad_time} \\n want_say : {want_say} \\n todo: {todo} \\n youtube: {youtube} \\n answer:\",\n",
    "    input_variables=[\"instruction\", \"notice_date\", \"broad_time\", \"todo\", \"youtube\"],\n",
    ")"
   ]
  },
  {
   "cell_type": "code",
   "execution_count": 51,
   "metadata": {},
   "outputs": [
    {
     "data": {
      "text/plain": [
       "['broad_time', 'instruction', 'notice_date', 'todo', 'want_say', 'youtube']"
      ]
     },
     "execution_count": 51,
     "metadata": {},
     "output_type": "execute_result"
    }
   ],
   "source": [
    "prompt.input_variables"
   ]
  },
  {
   "cell_type": "code",
   "execution_count": 54,
   "metadata": {},
   "outputs": [],
   "source": [
    "final_prompt = prompt.format(\n",
    "    instruction=\"다음 내용들로 명훈 스타일 공지를 작성해주세요\",\n",
    "    notice_date=\"2025년 2월 15일\",\n",
    "    broad_time=\"오후 7시\",\n",
    "    want_say=\"의문의 게스트와 합방 / 발렌타인데이임 으흐흐\",\n",
    "    todo=\"명조 광고\",\n",
    "    youtube=\"업로드\",\n",
    ")"
   ]
  },
  {
   "cell_type": "code",
   "execution_count": 55,
   "metadata": {},
   "outputs": [
    {
     "name": "stdout",
     "output_type": "stream",
     "text": [
      "반갑습니다 사랑하는 턱붕이 여러분! 2025년 2월 15일 명예훈장 방송 공지입니다!\n",
      "\n",
      "오늘은 특별한 날이죠? 바로 발렌타인데이입니다 으흐흐~! 그래서 준비한 특별한 방송이 있습니다!\n",
      "\n",
      "오늘 오후 7시, 명조 광고와 함께 의문의 게스트와 합방을 진행할 예정입니다! 어떤 분이 오실지 궁금하시죠? 기대 많이 해주세요!\n",
      "\n",
      "그리고 오늘도 유튜브 영상이 업로드되었습니다! 재밌게 봐주시고, 좋아요와 구독은 언제나 큰 힘이 됩니다!\n",
      "\n",
      "그럼 오늘 저녁 7시에 생방송에서 만나요! 다들 놓치지 마세요! \n",
      "\n",
      "이 글 좋아요 많이 부탁드립니다!\n"
     ]
    }
   ],
   "source": [
    "print(model.invoke(final_prompt).content)"
   ]
  },
  {
   "cell_type": "markdown",
   "metadata": {},
   "source": [
    "### 여기까지 example prompt\n",
    "### 여기부터 RAG "
   ]
  },
  {
   "cell_type": "markdown",
   "metadata": {},
   "source": []
  }
 ],
 "metadata": {
  "kernelspec": {
   "display_name": "llm-env",
   "language": "python",
   "name": "python3"
  },
  "language_info": {
   "codemirror_mode": {
    "name": "ipython",
    "version": 3
   },
   "file_extension": ".py",
   "mimetype": "text/x-python",
   "name": "python",
   "nbconvert_exporter": "python",
   "pygments_lexer": "ipython3",
   "version": "3.11.11"
  }
 },
 "nbformat": 4,
 "nbformat_minor": 2
}
