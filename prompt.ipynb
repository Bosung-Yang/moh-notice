{
 "cells": [
  {
   "cell_type": "code",
   "execution_count": 2,
   "metadata": {},
   "outputs": [
    {
     "data": {
      "text/plain": [
       "AIMessage(content='대한민국의 수도는 서울입니다.', additional_kwargs={'refusal': None}, response_metadata={'token_usage': {'completion_tokens': 16, 'prompt_tokens': 24, 'total_tokens': 40, 'completion_tokens_details': {'accepted_prediction_tokens': 0, 'audio_tokens': 0, 'reasoning_tokens': 0, 'rejected_prediction_tokens': 0}, 'prompt_tokens_details': {'audio_tokens': 0, 'cached_tokens': 0}}, 'model_name': 'gpt-3.5-turbo-0125', 'system_fingerprint': None, 'finish_reason': 'stop', 'logprobs': None}, id='run-a1c90aba-5393-467d-80fe-84868ac2eac5-0', usage_metadata={'input_tokens': 24, 'output_tokens': 16, 'total_tokens': 40, 'input_token_details': {'audio': 0, 'cache_read': 0}, 'output_token_details': {'audio': 0, 'reasoning': 0}})"
      ]
     },
     "execution_count": 2,
     "metadata": {},
     "output_type": "execute_result"
    }
   ],
   "source": [
    "import os\n",
    "import mykey\n",
    "os.environ['OPENAI_API_KEY'] = mykey.openai()\n",
    "from langchain_core.prompts import PromptTemplate\n",
    "\n",
    "template = \"{country}의 수도는 어디인가요?\"\n",
    "\n",
    "# from_template 메소드를 이용하여 PromptTemplate 객체 생성\n",
    "prompt_template = PromptTemplate.from_template(template)\n",
    "\n",
    "prompt = prompt_template.format(country=\"대한민국\")\n",
    "prompt\n",
    "\n",
    "from langchain_openai import ChatOpenAI\n",
    "\n",
    "model = ChatOpenAI(\n",
    "    model=\"gpt-3.5-turbo\",\n",
    "    max_tokens=2048,\n",
    "    temperature=0.1,\n",
    ")\n",
    "\n",
    "model.invoke(prompt)"
   ]
  },
  {
   "cell_type": "code",
   "execution_count": 3,
   "metadata": {},
   "outputs": [
    {
     "data": {
      "text/plain": [
       "'- 공지 제목 : 2022년 1월 1일 오후 3시 인터넷 방송 안내\\n- 공지 내용 : 2022년 1월 1일 오후 3시에는 리그오브레전드 방송이 예정되어 있습니다. 합방 멤버가 없을 경우, 방송은 솔로로 진행될 예정입니다. 즐거운 시청 부탁드립니다.'"
      ]
     },
     "execution_count": 3,
     "metadata": {},
     "output_type": "execute_result"
    }
   ],
   "source": [
    "template = \"\"\"\n",
    "    인터넷 방송 공지를 아래 형식에 맞게 작성해주세요:\n",
    "    합방 멤버가 없을 경우 날짜 시간 컨텐츠만 표시하세요\n",
    "    [입력]\n",
    "    방송 날짜 : {date}\n",
    "    방송 시간 : {time}\n",
    "    오늘 할 컨텐츠 : {content}\n",
    "    합방 멤버 : {with_members}\n",
    "\n",
    "    [출력]\n",
    "    - 공지 제목 : \n",
    "    - 공지 내용 :\n",
    "\"\"\"\n",
    "\n",
    "prompt = PromptTemplate.from_template(template).format(date = \"2022년 1월 1일\", time = \"오후 3시\", content = \"리그오브레전드\", with_members = None)\n",
    "\n",
    "model.invoke(prompt).content"
   ]
  }
 ],
 "metadata": {
  "kernelspec": {
   "display_name": "llm-env",
   "language": "python",
   "name": "python3"
  },
  "language_info": {
   "codemirror_mode": {
    "name": "ipython",
    "version": 3
   },
   "file_extension": ".py",
   "mimetype": "text/x-python",
   "name": "python",
   "nbconvert_exporter": "python",
   "pygments_lexer": "ipython3",
   "version": "3.11.11"
  }
 },
 "nbformat": 4,
 "nbformat_minor": 2
}
